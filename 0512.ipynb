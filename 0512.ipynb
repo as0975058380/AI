{
 "cells": [
  {
   "cell_type": "code",
   "execution_count": 9,
   "id": "c3c76ab0",
   "metadata": {},
   "outputs": [
    {
     "name": "stdout",
     "output_type": "stream",
     "text": [
      "集群中心的座標: [[2.1 2.1]\n",
      " [1.1 1.1]]\n",
      "預測: [1 1 1 0 0 0]\n",
      "實際: [1, 1, 1, 0, 0, 0]\n",
      "預測[1,1],[2.3,2.1]: [1 0]\n"
     ]
    },
    {
     "data": {
      "image/png": "[encoded data removed]",
      "text/plain": [
       "<Figure size 432x288 with 1 Axes>"
      ]
     },
     "metadata": {},
     "output_type": "display_data"
    }
   ],
   "source": [
    "import numpy as np\n",
    "from sklearn.model_selection import train_test_split\n",
    "from sklearn.cluster import KMeans\n",
    "from time import time\n",
    "import numpy as np \n",
    "import matplotlib.pyplot as plt\n",
    "from sklearn import metrics\n",
    "X=np.array([[1,1],[1.1,1.1],[1.2,1.2],[2,2],[2.1,2.1],[2.2,2.2]])\n",
    "y=[1,1,1,0,0,0]\n",
    "kmeans = KMeans(n_clusters=2,random_state=0).fit(X)\n",
    "print(\"集群中心的座標:\",kmeans.cluster_centers_)\n",
    "print(\"預測:\",kmeans.predict(X))\n",
    "print(\"實際:\",y)\n",
    "print(\"預測[1,1],[2.3,2.1]:\",kmeans.predict([[1,1],[2.3,2.1]]))\n",
    "plt.axis([0,3,0,3])\n",
    "plt.plot(X[:3,0],X[:3,1],'yx')\n",
    "plt.plot(X[3:,0],X[3:,1],'g.')\n",
    "plt.plot(kmeans.cluster_centers_[:,0],kmeans.cluster_centers_[:,1],'ro')\n",
    "plt.xticks(())\n",
    "plt.yticks(())\n",
    "plt.show()"
   ]
  },
  {
   "cell_type": "code",
   "execution_count": 15,
   "id": "f62bef25",
   "metadata": {},
   "outputs": [
    {
     "name": "stdout",
     "output_type": "stream",
     "text": [
      "實際 [2 2 0 0 1 0 1 1 1 1 0 2 2 2 2 0 2 1 0 0 0 1 0 0 1 1 2 0 0 0 2 2 1 0 1 0 0\n",
      " 1 0 2 1 0 1 2 2 1 0 0 0 0 2 2 2 2 2 2 2 2 0 0 1 2 0 1 0 0 1 2 2 0 2 0 2 1\n",
      " 0 2 1 2 2 0 0 0 0 1 1 2 2 1 0 0 0 2 1 1 2 0 2 0 2 1 2 1 1 1 0 1 2 2 1 1 0\n",
      " 1 0 2 1 1 1 1 2 1]\n",
      "預測 [0 2 1 1 0 1 0 0 0 0 1 0 2 2 0 1 2 0 1 1 1 0 1 1 0 0 2 1 1 1 2 0 0 1 0 1 1\n",
      " 0 1 0 2 1 0 2 2 0 1 1 1 1 0 2 2 2 2 0 2 2 1 1 0 2 1 0 1 1 0 2 2 1 2 1 2 0\n",
      " 1 0 2 2 2 1 1 1 1 0 0 2 0 0 1 1 1 2 0 0 0 1 0 1 2 0 2 0 0 0 1 0 2 2 0 0 1\n",
      " 0 1 2 0 2 0 0 2 0]\n",
      "調整 [2 2 1 1 0 1 0 0 0 0 1 2 2 2 2 1 2 0 1 1 1 0 1 1 0 0 2 1 1 1 2 2 0 1 0 1 1\n",
      " 0 1 2 0 1 0 2 2 0 1 1 1 1 2 2 2 2 2 2 2 2 1 1 0 2 1 0 1 1 0 2 2 1 2 1 2 0\n",
      " 1 2 0 2 2 1 1 1 1 0 0 2 2 0 1 1 1 2 0 0 2 1 2 1 2 0 2 0 0 0 1 0 2 2 0 0 1\n",
      " 0 1 2 0 0 0 0 2 0]\n",
      "準確率:0.883333\n"
     ]
    }
   ],
   "source": [
    "import matplotlib.pyplot as plt\n",
    "import numpy as np\n",
    "from sklearn import datasets\n",
    "from sklearn.model_selection import train_test_split\n",
    "from sklearn.cluster import KMeans\n",
    "from sklearn import metrics\n",
    "iris = datasets.load_iris()\n",
    "iris_X_train ,iris_X_test,iris_y_train,iris_y_test = train_test_split(iris.data,iris.target,test_size=0.2)\n",
    "kmeans = KMeans(n_clusters = 3)\n",
    "kmeans_fit =kmeans.fit(iris_X_train)\n",
    "\n",
    "print(\"實際\",iris_y_train)\n",
    "print(\"預測\",kmeans_fit.labels_)\n",
    "iris_y_train[iris_y_train==1]=11\n",
    "iris_y_train[iris_y_train==0]=1\n",
    "iris_y_train[iris_y_train==11]=0\n",
    "print(\"調整\",iris_y_train)\n",
    "score= metrics.accuracy_score(iris_y_train,kmeans.predict(iris_X_train))\n",
    "print('準確率:{0:f}'.format(score))"
   ]
  },
  {
   "cell_type": "code",
   "execution_count": 14,
   "id": "2266ff70",
   "metadata": {},
   "outputs": [
    {
     "data": {
      "image/png": "[encoded data removed]",
      "text/plain": [
       "<Figure size 432x288 with 1 Axes>"
      ]
     },
     "metadata": {
      "needs_background": "light"
     },
     "output_type": "display_data"
    }
   ],
   "source": [
    "import matplotlib.pyplot as plt\n",
    "import numpy as np\n",
    "from sklearn import datasets\n",
    "from sklearn.model_selection import train_test_split\n",
    "from sklearn.cluster import KMeans\n",
    "from sklearn import metrics\n",
    "iris = datasets.load_iris()\n",
    "iris_X_train ,iris_X_test,iris_y_train,iris_y_test = train_test_split(iris.data,iris.target,test_size=0.2)\n",
    "kmeans = KMeans(n_clusters = 3)\n",
    "kmeans.fit(iris_X_train)\n",
    "y_predict=kmeans.predict(iris_X_train)\n",
    "\n",
    "x1=iris_X_train[:,0]\n",
    "y1=iris_X_train[:,1]\n",
    "plt.scatter(x1,y1, c=y_predict,cmap='viridis')\n",
    "centers =kmeans.cluster_centers_\n",
    "plt.scatter(centers[:,0],centers[:,1],c='black',s=200,alpha=0.5);\n",
    "plt.show()"
   ]
  },
  {
   "cell_type": "code",
   "execution_count": 21,
   "id": "f534c818",
   "metadata": {},
   "outputs": [
    {
     "data": {
      "text/plain": [
       "array([0.5])"
      ]
     },
     "execution_count": 21,
     "metadata": {},
     "output_type": "execute_result"
    }
   ],
   "source": [
    "from sklearn import tree\n",
    ">>> X = [[0, 0], [2, 2]]\n",
    ">>> y = [0.5, 2.5]\n",
    ">>> clf = tree.DecisionTreeRegressor()\n",
    ">>> clf = clf.fit(X, y)\n",
    ">>> clf.predict([[1, 1]])\n"
   ]
  },
  {
   "cell_type": "markdown",
   "id": "457e1ad9",
   "metadata": {},
   "source": [
    "(1)程式碼較為簡短\n",
    "(2)不需要載多個套件\n"
   ]
  }
 ],
 "metadata": {
  "kernelspec": {
   "display_name": "Python 3",
   "language": "python",
   "name": "python3"
  },
  "language_info": {
   "codemirror_mode": {
    "name": "ipython",
    "version": 3
   },
   "file_extension": ".py",
   "mimetype": "text/x-python",
   "name": "python",
   "nbconvert_exporter": "python",
   "pygments_lexer": "ipython3",
   "version": "3.7.10"
  }
 },
 "nbformat": 4,
 "nbformat_minor": 5
}
